{
 "cells": [
  {
   "cell_type": "markdown",
   "metadata": {},
   "source": [
    "# Event Extraction Workbook\n"
   ]
  },
  {
   "cell_type": "code",
   "execution_count": 1,
   "metadata": {},
   "outputs": [],
   "source": [
    "## IMPORT LIBRARIES\n",
    "from main_function import Summarizer"
   ]
  },
  {
   "cell_type": "code",
   "execution_count": 2,
   "metadata": {},
   "outputs": [],
   "source": [
    "## LOCAL PARAMETERS\n",
    "EXTRACTION_METHOD = 'finetuned-t5' # choose between ['finetuned-t5','weighted-frequency','tf-idf]\n",
    "INPUT_ARTICLE = 'article2.txt' # choose between ['article1.txt','article2.txt','article3.txt'], or other new articles of the same HTML format"
   ]
  },
  {
   "cell_type": "code",
   "execution_count": 3,
   "metadata": {},
   "outputs": [
    {
     "data": {
      "text/plain": [
       "'Israeli forces have killed three Palestinians, including two teenagers, in separate incidents in the West Bank, a Palestinian news agency has said.'"
      ]
     },
     "execution_count": 3,
     "metadata": {},
     "output_type": "execute_result"
    }
   ],
   "source": [
    "## EVENT EXTRACTION\n",
    "summariser = Summarizer(INPUT_ARTICLE,EXTRACTION_METHOD) # Instantiate the Summarizer object\n",
    "summariser.summarise() # return event extraction"
   ]
  }
 ],
 "metadata": {
  "kernelspec": {
   "display_name": "Python 3",
   "language": "python",
   "name": "python3"
  },
  "language_info": {
   "codemirror_mode": {
    "name": "ipython",
    "version": 3
   },
   "file_extension": ".py",
   "mimetype": "text/x-python",
   "name": "python",
   "nbconvert_exporter": "python",
   "pygments_lexer": "ipython3",
   "version": "3.8.2"
  }
 },
 "nbformat": 4,
 "nbformat_minor": 2
}
